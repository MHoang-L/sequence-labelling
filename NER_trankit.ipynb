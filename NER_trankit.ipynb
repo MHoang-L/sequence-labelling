{
  "nbformat": 4,
  "nbformat_minor": 0,
  "metadata": {
    "colab": {
      "provenance": [],
      "gpuType": "T4"
    },
    "kernelspec": {
      "name": "python3",
      "display_name": "Python 3"
    },
    "accelerator": "GPU",
    "widgets": {
      "application/vnd.jupyter.widget-state+json": {
        "caed22caba584ff3a7e2d8e689a53270": {
          "model_module": "@jupyter-widgets/controls",
          "model_name": "HBoxModel",
          "model_module_version": "1.5.0",
          "state": {
            "_dom_classes": [],
            "_model_module": "@jupyter-widgets/controls",
            "_model_module_version": "1.5.0",
            "_model_name": "HBoxModel",
            "_view_count": null,
            "_view_module": "@jupyter-widgets/controls",
            "_view_module_version": "1.5.0",
            "_view_name": "HBoxView",
            "box_style": "",
            "children": [
              "IPY_MODEL_691126a5aa5f49f1be7e6fe86161afaa",
              "IPY_MODEL_d0db53a62da44cd88395a862c8396a2b",
              "IPY_MODEL_6d6f1b5bdce948119f92ce256af7a3d2"
            ],
            "layout": "IPY_MODEL_a74e369b47ea4a50b600858a6a6277c3"
          }
        },
        "691126a5aa5f49f1be7e6fe86161afaa": {
          "model_module": "@jupyter-widgets/controls",
          "model_name": "HTMLModel",
          "model_module_version": "1.5.0",
          "state": {
            "_dom_classes": [],
            "_model_module": "@jupyter-widgets/controls",
            "_model_module_version": "1.5.0",
            "_model_name": "HTMLModel",
            "_view_count": null,
            "_view_module": "@jupyter-widgets/controls",
            "_view_module_version": "1.5.0",
            "_view_name": "HTMLView",
            "description": "",
            "description_tooltip": null,
            "layout": "IPY_MODEL_ecf4fb610aa44ba5bc531352d7fa1ac4",
            "placeholder": "​",
            "style": "IPY_MODEL_96786e3e02b14ac1a0a230f590b8cf11",
            "value": "Downloading: 100%"
          }
        },
        "d0db53a62da44cd88395a862c8396a2b": {
          "model_module": "@jupyter-widgets/controls",
          "model_name": "FloatProgressModel",
          "model_module_version": "1.5.0",
          "state": {
            "_dom_classes": [],
            "_model_module": "@jupyter-widgets/controls",
            "_model_module_version": "1.5.0",
            "_model_name": "FloatProgressModel",
            "_view_count": null,
            "_view_module": "@jupyter-widgets/controls",
            "_view_module_version": "1.5.0",
            "_view_name": "ProgressView",
            "bar_style": "success",
            "description": "",
            "description_tooltip": null,
            "layout": "IPY_MODEL_b7f9f88c1a3c4db3896c125041658bd0",
            "max": 5069051,
            "min": 0,
            "orientation": "horizontal",
            "style": "IPY_MODEL_d79c1ab4c615420a85dfecf3e9967099",
            "value": 5069051
          }
        },
        "6d6f1b5bdce948119f92ce256af7a3d2": {
          "model_module": "@jupyter-widgets/controls",
          "model_name": "HTMLModel",
          "model_module_version": "1.5.0",
          "state": {
            "_dom_classes": [],
            "_model_module": "@jupyter-widgets/controls",
            "_model_module_version": "1.5.0",
            "_model_name": "HTMLModel",
            "_view_count": null,
            "_view_module": "@jupyter-widgets/controls",
            "_view_module_version": "1.5.0",
            "_view_name": "HTMLView",
            "description": "",
            "description_tooltip": null,
            "layout": "IPY_MODEL_4d819d0b5be34517b7071642582c6925",
            "placeholder": "​",
            "style": "IPY_MODEL_85f08a60fa20445e9ece3064a037ea53",
            "value": " 5.07M/5.07M [00:01&lt;00:00, 5.40MB/s]"
          }
        },
        "a74e369b47ea4a50b600858a6a6277c3": {
          "model_module": "@jupyter-widgets/base",
          "model_name": "LayoutModel",
          "model_module_version": "1.2.0",
          "state": {
            "_model_module": "@jupyter-widgets/base",
            "_model_module_version": "1.2.0",
            "_model_name": "LayoutModel",
            "_view_count": null,
            "_view_module": "@jupyter-widgets/base",
            "_view_module_version": "1.2.0",
            "_view_name": "LayoutView",
            "align_content": null,
            "align_items": null,
            "align_self": null,
            "border": null,
            "bottom": null,
            "display": null,
            "flex": null,
            "flex_flow": null,
            "grid_area": null,
            "grid_auto_columns": null,
            "grid_auto_flow": null,
            "grid_auto_rows": null,
            "grid_column": null,
            "grid_gap": null,
            "grid_row": null,
            "grid_template_areas": null,
            "grid_template_columns": null,
            "grid_template_rows": null,
            "height": null,
            "justify_content": null,
            "justify_items": null,
            "left": null,
            "margin": null,
            "max_height": null,
            "max_width": null,
            "min_height": null,
            "min_width": null,
            "object_fit": null,
            "object_position": null,
            "order": null,
            "overflow": null,
            "overflow_x": null,
            "overflow_y": null,
            "padding": null,
            "right": null,
            "top": null,
            "visibility": null,
            "width": null
          }
        },
        "ecf4fb610aa44ba5bc531352d7fa1ac4": {
          "model_module": "@jupyter-widgets/base",
          "model_name": "LayoutModel",
          "model_module_version": "1.2.0",
          "state": {
            "_model_module": "@jupyter-widgets/base",
            "_model_module_version": "1.2.0",
            "_model_name": "LayoutModel",
            "_view_count": null,
            "_view_module": "@jupyter-widgets/base",
            "_view_module_version": "1.2.0",
            "_view_name": "LayoutView",
            "align_content": null,
            "align_items": null,
            "align_self": null,
            "border": null,
            "bottom": null,
            "display": null,
            "flex": null,
            "flex_flow": null,
            "grid_area": null,
            "grid_auto_columns": null,
            "grid_auto_flow": null,
            "grid_auto_rows": null,
            "grid_column": null,
            "grid_gap": null,
            "grid_row": null,
            "grid_template_areas": null,
            "grid_template_columns": null,
            "grid_template_rows": null,
            "height": null,
            "justify_content": null,
            "justify_items": null,
            "left": null,
            "margin": null,
            "max_height": null,
            "max_width": null,
            "min_height": null,
            "min_width": null,
            "object_fit": null,
            "object_position": null,
            "order": null,
            "overflow": null,
            "overflow_x": null,
            "overflow_y": null,
            "padding": null,
            "right": null,
            "top": null,
            "visibility": null,
            "width": null
          }
        },
        "96786e3e02b14ac1a0a230f590b8cf11": {
          "model_module": "@jupyter-widgets/controls",
          "model_name": "DescriptionStyleModel",
          "model_module_version": "1.5.0",
          "state": {
            "_model_module": "@jupyter-widgets/controls",
            "_model_module_version": "1.5.0",
            "_model_name": "DescriptionStyleModel",
            "_view_count": null,
            "_view_module": "@jupyter-widgets/base",
            "_view_module_version": "1.2.0",
            "_view_name": "StyleView",
            "description_width": ""
          }
        },
        "b7f9f88c1a3c4db3896c125041658bd0": {
          "model_module": "@jupyter-widgets/base",
          "model_name": "LayoutModel",
          "model_module_version": "1.2.0",
          "state": {
            "_model_module": "@jupyter-widgets/base",
            "_model_module_version": "1.2.0",
            "_model_name": "LayoutModel",
            "_view_count": null,
            "_view_module": "@jupyter-widgets/base",
            "_view_module_version": "1.2.0",
            "_view_name": "LayoutView",
            "align_content": null,
            "align_items": null,
            "align_self": null,
            "border": null,
            "bottom": null,
            "display": null,
            "flex": null,
            "flex_flow": null,
            "grid_area": null,
            "grid_auto_columns": null,
            "grid_auto_flow": null,
            "grid_auto_rows": null,
            "grid_column": null,
            "grid_gap": null,
            "grid_row": null,
            "grid_template_areas": null,
            "grid_template_columns": null,
            "grid_template_rows": null,
            "height": null,
            "justify_content": null,
            "justify_items": null,
            "left": null,
            "margin": null,
            "max_height": null,
            "max_width": null,
            "min_height": null,
            "min_width": null,
            "object_fit": null,
            "object_position": null,
            "order": null,
            "overflow": null,
            "overflow_x": null,
            "overflow_y": null,
            "padding": null,
            "right": null,
            "top": null,
            "visibility": null,
            "width": null
          }
        },
        "d79c1ab4c615420a85dfecf3e9967099": {
          "model_module": "@jupyter-widgets/controls",
          "model_name": "ProgressStyleModel",
          "model_module_version": "1.5.0",
          "state": {
            "_model_module": "@jupyter-widgets/controls",
            "_model_module_version": "1.5.0",
            "_model_name": "ProgressStyleModel",
            "_view_count": null,
            "_view_module": "@jupyter-widgets/base",
            "_view_module_version": "1.2.0",
            "_view_name": "StyleView",
            "bar_color": null,
            "description_width": ""
          }
        },
        "4d819d0b5be34517b7071642582c6925": {
          "model_module": "@jupyter-widgets/base",
          "model_name": "LayoutModel",
          "model_module_version": "1.2.0",
          "state": {
            "_model_module": "@jupyter-widgets/base",
            "_model_module_version": "1.2.0",
            "_model_name": "LayoutModel",
            "_view_count": null,
            "_view_module": "@jupyter-widgets/base",
            "_view_module_version": "1.2.0",
            "_view_name": "LayoutView",
            "align_content": null,
            "align_items": null,
            "align_self": null,
            "border": null,
            "bottom": null,
            "display": null,
            "flex": null,
            "flex_flow": null,
            "grid_area": null,
            "grid_auto_columns": null,
            "grid_auto_flow": null,
            "grid_auto_rows": null,
            "grid_column": null,
            "grid_gap": null,
            "grid_row": null,
            "grid_template_areas": null,
            "grid_template_columns": null,
            "grid_template_rows": null,
            "height": null,
            "justify_content": null,
            "justify_items": null,
            "left": null,
            "margin": null,
            "max_height": null,
            "max_width": null,
            "min_height": null,
            "min_width": null,
            "object_fit": null,
            "object_position": null,
            "order": null,
            "overflow": null,
            "overflow_x": null,
            "overflow_y": null,
            "padding": null,
            "right": null,
            "top": null,
            "visibility": null,
            "width": null
          }
        },
        "85f08a60fa20445e9ece3064a037ea53": {
          "model_module": "@jupyter-widgets/controls",
          "model_name": "DescriptionStyleModel",
          "model_module_version": "1.5.0",
          "state": {
            "_model_module": "@jupyter-widgets/controls",
            "_model_module_version": "1.5.0",
            "_model_name": "DescriptionStyleModel",
            "_view_count": null,
            "_view_module": "@jupyter-widgets/base",
            "_view_module_version": "1.2.0",
            "_view_name": "StyleView",
            "description_width": ""
          }
        },
        "3f8a634f9bb249d898e3ef7a92dcb12e": {
          "model_module": "@jupyter-widgets/controls",
          "model_name": "HBoxModel",
          "model_module_version": "1.5.0",
          "state": {
            "_dom_classes": [],
            "_model_module": "@jupyter-widgets/controls",
            "_model_module_version": "1.5.0",
            "_model_name": "HBoxModel",
            "_view_count": null,
            "_view_module": "@jupyter-widgets/controls",
            "_view_module_version": "1.5.0",
            "_view_name": "HBoxView",
            "box_style": "",
            "children": [
              "IPY_MODEL_01db6778ed4142109db5374a9ac9a044",
              "IPY_MODEL_1e7e6f38a47b4683ae2ea2ce1f75f507",
              "IPY_MODEL_81df88c7d3f140e9b3c1e1985f5928b4"
            ],
            "layout": "IPY_MODEL_ff9ba35039f94ac7a1170e40a760459a"
          }
        },
        "01db6778ed4142109db5374a9ac9a044": {
          "model_module": "@jupyter-widgets/controls",
          "model_name": "HTMLModel",
          "model_module_version": "1.5.0",
          "state": {
            "_dom_classes": [],
            "_model_module": "@jupyter-widgets/controls",
            "_model_module_version": "1.5.0",
            "_model_name": "HTMLModel",
            "_view_count": null,
            "_view_module": "@jupyter-widgets/controls",
            "_view_module_version": "1.5.0",
            "_view_name": "HTMLView",
            "description": "",
            "description_tooltip": null,
            "layout": "IPY_MODEL_66118d82a2844efb855ca13ab2bc731b",
            "placeholder": "​",
            "style": "IPY_MODEL_f01c6bae2b0a43f9b64606e0496cdf9c",
            "value": "Downloading: 100%"
          }
        },
        "1e7e6f38a47b4683ae2ea2ce1f75f507": {
          "model_module": "@jupyter-widgets/controls",
          "model_name": "FloatProgressModel",
          "model_module_version": "1.5.0",
          "state": {
            "_dom_classes": [],
            "_model_module": "@jupyter-widgets/controls",
            "_model_module_version": "1.5.0",
            "_model_name": "FloatProgressModel",
            "_view_count": null,
            "_view_module": "@jupyter-widgets/controls",
            "_view_module_version": "1.5.0",
            "_view_name": "ProgressView",
            "bar_style": "success",
            "description": "",
            "description_tooltip": null,
            "layout": "IPY_MODEL_f79e11109fb940d48590a74812f14496",
            "max": 512,
            "min": 0,
            "orientation": "horizontal",
            "style": "IPY_MODEL_5640086419c1433f8885af1765f5e874",
            "value": 512
          }
        },
        "81df88c7d3f140e9b3c1e1985f5928b4": {
          "model_module": "@jupyter-widgets/controls",
          "model_name": "HTMLModel",
          "model_module_version": "1.5.0",
          "state": {
            "_dom_classes": [],
            "_model_module": "@jupyter-widgets/controls",
            "_model_module_version": "1.5.0",
            "_model_name": "HTMLModel",
            "_view_count": null,
            "_view_module": "@jupyter-widgets/controls",
            "_view_module_version": "1.5.0",
            "_view_name": "HTMLView",
            "description": "",
            "description_tooltip": null,
            "layout": "IPY_MODEL_b8c6feb054284b398a4a8483b463b991",
            "placeholder": "​",
            "style": "IPY_MODEL_4f2439d6cd9048d4aa61ec5be5d9c201",
            "value": " 512/512 [00:00&lt;00:00, 20.5kB/s]"
          }
        },
        "ff9ba35039f94ac7a1170e40a760459a": {
          "model_module": "@jupyter-widgets/base",
          "model_name": "LayoutModel",
          "model_module_version": "1.2.0",
          "state": {
            "_model_module": "@jupyter-widgets/base",
            "_model_module_version": "1.2.0",
            "_model_name": "LayoutModel",
            "_view_count": null,
            "_view_module": "@jupyter-widgets/base",
            "_view_module_version": "1.2.0",
            "_view_name": "LayoutView",
            "align_content": null,
            "align_items": null,
            "align_self": null,
            "border": null,
            "bottom": null,
            "display": null,
            "flex": null,
            "flex_flow": null,
            "grid_area": null,
            "grid_auto_columns": null,
            "grid_auto_flow": null,
            "grid_auto_rows": null,
            "grid_column": null,
            "grid_gap": null,
            "grid_row": null,
            "grid_template_areas": null,
            "grid_template_columns": null,
            "grid_template_rows": null,
            "height": null,
            "justify_content": null,
            "justify_items": null,
            "left": null,
            "margin": null,
            "max_height": null,
            "max_width": null,
            "min_height": null,
            "min_width": null,
            "object_fit": null,
            "object_position": null,
            "order": null,
            "overflow": null,
            "overflow_x": null,
            "overflow_y": null,
            "padding": null,
            "right": null,
            "top": null,
            "visibility": null,
            "width": null
          }
        },
        "66118d82a2844efb855ca13ab2bc731b": {
          "model_module": "@jupyter-widgets/base",
          "model_name": "LayoutModel",
          "model_module_version": "1.2.0",
          "state": {
            "_model_module": "@jupyter-widgets/base",
            "_model_module_version": "1.2.0",
            "_model_name": "LayoutModel",
            "_view_count": null,
            "_view_module": "@jupyter-widgets/base",
            "_view_module_version": "1.2.0",
            "_view_name": "LayoutView",
            "align_content": null,
            "align_items": null,
            "align_self": null,
            "border": null,
            "bottom": null,
            "display": null,
            "flex": null,
            "flex_flow": null,
            "grid_area": null,
            "grid_auto_columns": null,
            "grid_auto_flow": null,
            "grid_auto_rows": null,
            "grid_column": null,
            "grid_gap": null,
            "grid_row": null,
            "grid_template_areas": null,
            "grid_template_columns": null,
            "grid_template_rows": null,
            "height": null,
            "justify_content": null,
            "justify_items": null,
            "left": null,
            "margin": null,
            "max_height": null,
            "max_width": null,
            "min_height": null,
            "min_width": null,
            "object_fit": null,
            "object_position": null,
            "order": null,
            "overflow": null,
            "overflow_x": null,
            "overflow_y": null,
            "padding": null,
            "right": null,
            "top": null,
            "visibility": null,
            "width": null
          }
        },
        "f01c6bae2b0a43f9b64606e0496cdf9c": {
          "model_module": "@jupyter-widgets/controls",
          "model_name": "DescriptionStyleModel",
          "model_module_version": "1.5.0",
          "state": {
            "_model_module": "@jupyter-widgets/controls",
            "_model_module_version": "1.5.0",
            "_model_name": "DescriptionStyleModel",
            "_view_count": null,
            "_view_module": "@jupyter-widgets/base",
            "_view_module_version": "1.2.0",
            "_view_name": "StyleView",
            "description_width": ""
          }
        },
        "f79e11109fb940d48590a74812f14496": {
          "model_module": "@jupyter-widgets/base",
          "model_name": "LayoutModel",
          "model_module_version": "1.2.0",
          "state": {
            "_model_module": "@jupyter-widgets/base",
            "_model_module_version": "1.2.0",
            "_model_name": "LayoutModel",
            "_view_count": null,
            "_view_module": "@jupyter-widgets/base",
            "_view_module_version": "1.2.0",
            "_view_name": "LayoutView",
            "align_content": null,
            "align_items": null,
            "align_self": null,
            "border": null,
            "bottom": null,
            "display": null,
            "flex": null,
            "flex_flow": null,
            "grid_area": null,
            "grid_auto_columns": null,
            "grid_auto_flow": null,
            "grid_auto_rows": null,
            "grid_column": null,
            "grid_gap": null,
            "grid_row": null,
            "grid_template_areas": null,
            "grid_template_columns": null,
            "grid_template_rows": null,
            "height": null,
            "justify_content": null,
            "justify_items": null,
            "left": null,
            "margin": null,
            "max_height": null,
            "max_width": null,
            "min_height": null,
            "min_width": null,
            "object_fit": null,
            "object_position": null,
            "order": null,
            "overflow": null,
            "overflow_x": null,
            "overflow_y": null,
            "padding": null,
            "right": null,
            "top": null,
            "visibility": null,
            "width": null
          }
        },
        "5640086419c1433f8885af1765f5e874": {
          "model_module": "@jupyter-widgets/controls",
          "model_name": "ProgressStyleModel",
          "model_module_version": "1.5.0",
          "state": {
            "_model_module": "@jupyter-widgets/controls",
            "_model_module_version": "1.5.0",
            "_model_name": "ProgressStyleModel",
            "_view_count": null,
            "_view_module": "@jupyter-widgets/base",
            "_view_module_version": "1.2.0",
            "_view_name": "StyleView",
            "bar_color": null,
            "description_width": ""
          }
        },
        "b8c6feb054284b398a4a8483b463b991": {
          "model_module": "@jupyter-widgets/base",
          "model_name": "LayoutModel",
          "model_module_version": "1.2.0",
          "state": {
            "_model_module": "@jupyter-widgets/base",
            "_model_module_version": "1.2.0",
            "_model_name": "LayoutModel",
            "_view_count": null,
            "_view_module": "@jupyter-widgets/base",
            "_view_module_version": "1.2.0",
            "_view_name": "LayoutView",
            "align_content": null,
            "align_items": null,
            "align_self": null,
            "border": null,
            "bottom": null,
            "display": null,
            "flex": null,
            "flex_flow": null,
            "grid_area": null,
            "grid_auto_columns": null,
            "grid_auto_flow": null,
            "grid_auto_rows": null,
            "grid_column": null,
            "grid_gap": null,
            "grid_row": null,
            "grid_template_areas": null,
            "grid_template_columns": null,
            "grid_template_rows": null,
            "height": null,
            "justify_content": null,
            "justify_items": null,
            "left": null,
            "margin": null,
            "max_height": null,
            "max_width": null,
            "min_height": null,
            "min_width": null,
            "object_fit": null,
            "object_position": null,
            "order": null,
            "overflow": null,
            "overflow_x": null,
            "overflow_y": null,
            "padding": null,
            "right": null,
            "top": null,
            "visibility": null,
            "width": null
          }
        },
        "4f2439d6cd9048d4aa61ec5be5d9c201": {
          "model_module": "@jupyter-widgets/controls",
          "model_name": "DescriptionStyleModel",
          "model_module_version": "1.5.0",
          "state": {
            "_model_module": "@jupyter-widgets/controls",
            "_model_module_version": "1.5.0",
            "_model_name": "DescriptionStyleModel",
            "_view_count": null,
            "_view_module": "@jupyter-widgets/base",
            "_view_module_version": "1.2.0",
            "_view_name": "StyleView",
            "description_width": ""
          }
        },
        "127e46f3625047d1a86cc7dc9dc52226": {
          "model_module": "@jupyter-widgets/controls",
          "model_name": "HBoxModel",
          "model_module_version": "1.5.0",
          "state": {
            "_dom_classes": [],
            "_model_module": "@jupyter-widgets/controls",
            "_model_module_version": "1.5.0",
            "_model_name": "HBoxModel",
            "_view_count": null,
            "_view_module": "@jupyter-widgets/controls",
            "_view_module_version": "1.5.0",
            "_view_name": "HBoxView",
            "box_style": "",
            "children": [
              "IPY_MODEL_5150bcd0dcff44c7acbd99e757851cfa",
              "IPY_MODEL_763c4342ef8845e280e027741ed3ef8a",
              "IPY_MODEL_5a59f5cc8eb84b21b0cb0b966c29c37f"
            ],
            "layout": "IPY_MODEL_baaa2103216a4cd493cfc8ba45ca255c"
          }
        },
        "5150bcd0dcff44c7acbd99e757851cfa": {
          "model_module": "@jupyter-widgets/controls",
          "model_name": "HTMLModel",
          "model_module_version": "1.5.0",
          "state": {
            "_dom_classes": [],
            "_model_module": "@jupyter-widgets/controls",
            "_model_module_version": "1.5.0",
            "_model_name": "HTMLModel",
            "_view_count": null,
            "_view_module": "@jupyter-widgets/controls",
            "_view_module_version": "1.5.0",
            "_view_name": "HTMLView",
            "description": "",
            "description_tooltip": null,
            "layout": "IPY_MODEL_cb3171fc1a9f4919aedd5218cdb801c8",
            "placeholder": "​",
            "style": "IPY_MODEL_60a8213710f44f14ae0c496b5847ffec",
            "value": "Downloading: 100%"
          }
        },
        "763c4342ef8845e280e027741ed3ef8a": {
          "model_module": "@jupyter-widgets/controls",
          "model_name": "FloatProgressModel",
          "model_module_version": "1.5.0",
          "state": {
            "_dom_classes": [],
            "_model_module": "@jupyter-widgets/controls",
            "_model_module_version": "1.5.0",
            "_model_name": "FloatProgressModel",
            "_view_count": null,
            "_view_module": "@jupyter-widgets/controls",
            "_view_module_version": "1.5.0",
            "_view_name": "ProgressView",
            "bar_style": "success",
            "description": "",
            "description_tooltip": null,
            "layout": "IPY_MODEL_76a25be0f6464d97869432243a2b71cf",
            "max": 1115590446,
            "min": 0,
            "orientation": "horizontal",
            "style": "IPY_MODEL_ab468ff2442a4d3aadba1f765768e03a",
            "value": 1115590446
          }
        },
        "5a59f5cc8eb84b21b0cb0b966c29c37f": {
          "model_module": "@jupyter-widgets/controls",
          "model_name": "HTMLModel",
          "model_module_version": "1.5.0",
          "state": {
            "_dom_classes": [],
            "_model_module": "@jupyter-widgets/controls",
            "_model_module_version": "1.5.0",
            "_model_name": "HTMLModel",
            "_view_count": null,
            "_view_module": "@jupyter-widgets/controls",
            "_view_module_version": "1.5.0",
            "_view_name": "HTMLView",
            "description": "",
            "description_tooltip": null,
            "layout": "IPY_MODEL_5cb566b2e1f24098ab654bed334a7fb7",
            "placeholder": "​",
            "style": "IPY_MODEL_ab3ae3224b874fd89fad2bb43b4f572e",
            "value": " 1.12G/1.12G [01:10&lt;00:00, 16.2MB/s]"
          }
        },
        "baaa2103216a4cd493cfc8ba45ca255c": {
          "model_module": "@jupyter-widgets/base",
          "model_name": "LayoutModel",
          "model_module_version": "1.2.0",
          "state": {
            "_model_module": "@jupyter-widgets/base",
            "_model_module_version": "1.2.0",
            "_model_name": "LayoutModel",
            "_view_count": null,
            "_view_module": "@jupyter-widgets/base",
            "_view_module_version": "1.2.0",
            "_view_name": "LayoutView",
            "align_content": null,
            "align_items": null,
            "align_self": null,
            "border": null,
            "bottom": null,
            "display": null,
            "flex": null,
            "flex_flow": null,
            "grid_area": null,
            "grid_auto_columns": null,
            "grid_auto_flow": null,
            "grid_auto_rows": null,
            "grid_column": null,
            "grid_gap": null,
            "grid_row": null,
            "grid_template_areas": null,
            "grid_template_columns": null,
            "grid_template_rows": null,
            "height": null,
            "justify_content": null,
            "justify_items": null,
            "left": null,
            "margin": null,
            "max_height": null,
            "max_width": null,
            "min_height": null,
            "min_width": null,
            "object_fit": null,
            "object_position": null,
            "order": null,
            "overflow": null,
            "overflow_x": null,
            "overflow_y": null,
            "padding": null,
            "right": null,
            "top": null,
            "visibility": null,
            "width": null
          }
        },
        "cb3171fc1a9f4919aedd5218cdb801c8": {
          "model_module": "@jupyter-widgets/base",
          "model_name": "LayoutModel",
          "model_module_version": "1.2.0",
          "state": {
            "_model_module": "@jupyter-widgets/base",
            "_model_module_version": "1.2.0",
            "_model_name": "LayoutModel",
            "_view_count": null,
            "_view_module": "@jupyter-widgets/base",
            "_view_module_version": "1.2.0",
            "_view_name": "LayoutView",
            "align_content": null,
            "align_items": null,
            "align_self": null,
            "border": null,
            "bottom": null,
            "display": null,
            "flex": null,
            "flex_flow": null,
            "grid_area": null,
            "grid_auto_columns": null,
            "grid_auto_flow": null,
            "grid_auto_rows": null,
            "grid_column": null,
            "grid_gap": null,
            "grid_row": null,
            "grid_template_areas": null,
            "grid_template_columns": null,
            "grid_template_rows": null,
            "height": null,
            "justify_content": null,
            "justify_items": null,
            "left": null,
            "margin": null,
            "max_height": null,
            "max_width": null,
            "min_height": null,
            "min_width": null,
            "object_fit": null,
            "object_position": null,
            "order": null,
            "overflow": null,
            "overflow_x": null,
            "overflow_y": null,
            "padding": null,
            "right": null,
            "top": null,
            "visibility": null,
            "width": null
          }
        },
        "60a8213710f44f14ae0c496b5847ffec": {
          "model_module": "@jupyter-widgets/controls",
          "model_name": "DescriptionStyleModel",
          "model_module_version": "1.5.0",
          "state": {
            "_model_module": "@jupyter-widgets/controls",
            "_model_module_version": "1.5.0",
            "_model_name": "DescriptionStyleModel",
            "_view_count": null,
            "_view_module": "@jupyter-widgets/base",
            "_view_module_version": "1.2.0",
            "_view_name": "StyleView",
            "description_width": ""
          }
        },
        "76a25be0f6464d97869432243a2b71cf": {
          "model_module": "@jupyter-widgets/base",
          "model_name": "LayoutModel",
          "model_module_version": "1.2.0",
          "state": {
            "_model_module": "@jupyter-widgets/base",
            "_model_module_version": "1.2.0",
            "_model_name": "LayoutModel",
            "_view_count": null,
            "_view_module": "@jupyter-widgets/base",
            "_view_module_version": "1.2.0",
            "_view_name": "LayoutView",
            "align_content": null,
            "align_items": null,
            "align_self": null,
            "border": null,
            "bottom": null,
            "display": null,
            "flex": null,
            "flex_flow": null,
            "grid_area": null,
            "grid_auto_columns": null,
            "grid_auto_flow": null,
            "grid_auto_rows": null,
            "grid_column": null,
            "grid_gap": null,
            "grid_row": null,
            "grid_template_areas": null,
            "grid_template_columns": null,
            "grid_template_rows": null,
            "height": null,
            "justify_content": null,
            "justify_items": null,
            "left": null,
            "margin": null,
            "max_height": null,
            "max_width": null,
            "min_height": null,
            "min_width": null,
            "object_fit": null,
            "object_position": null,
            "order": null,
            "overflow": null,
            "overflow_x": null,
            "overflow_y": null,
            "padding": null,
            "right": null,
            "top": null,
            "visibility": null,
            "width": null
          }
        },
        "ab468ff2442a4d3aadba1f765768e03a": {
          "model_module": "@jupyter-widgets/controls",
          "model_name": "ProgressStyleModel",
          "model_module_version": "1.5.0",
          "state": {
            "_model_module": "@jupyter-widgets/controls",
            "_model_module_version": "1.5.0",
            "_model_name": "ProgressStyleModel",
            "_view_count": null,
            "_view_module": "@jupyter-widgets/base",
            "_view_module_version": "1.2.0",
            "_view_name": "StyleView",
            "bar_color": null,
            "description_width": ""
          }
        },
        "5cb566b2e1f24098ab654bed334a7fb7": {
          "model_module": "@jupyter-widgets/base",
          "model_name": "LayoutModel",
          "model_module_version": "1.2.0",
          "state": {
            "_model_module": "@jupyter-widgets/base",
            "_model_module_version": "1.2.0",
            "_model_name": "LayoutModel",
            "_view_count": null,
            "_view_module": "@jupyter-widgets/base",
            "_view_module_version": "1.2.0",
            "_view_name": "LayoutView",
            "align_content": null,
            "align_items": null,
            "align_self": null,
            "border": null,
            "bottom": null,
            "display": null,
            "flex": null,
            "flex_flow": null,
            "grid_area": null,
            "grid_auto_columns": null,
            "grid_auto_flow": null,
            "grid_auto_rows": null,
            "grid_column": null,
            "grid_gap": null,
            "grid_row": null,
            "grid_template_areas": null,
            "grid_template_columns": null,
            "grid_template_rows": null,
            "height": null,
            "justify_content": null,
            "justify_items": null,
            "left": null,
            "margin": null,
            "max_height": null,
            "max_width": null,
            "min_height": null,
            "min_width": null,
            "object_fit": null,
            "object_position": null,
            "order": null,
            "overflow": null,
            "overflow_x": null,
            "overflow_y": null,
            "padding": null,
            "right": null,
            "top": null,
            "visibility": null,
            "width": null
          }
        },
        "ab3ae3224b874fd89fad2bb43b4f572e": {
          "model_module": "@jupyter-widgets/controls",
          "model_name": "DescriptionStyleModel",
          "model_module_version": "1.5.0",
          "state": {
            "_model_module": "@jupyter-widgets/controls",
            "_model_module_version": "1.5.0",
            "_model_name": "DescriptionStyleModel",
            "_view_count": null,
            "_view_module": "@jupyter-widgets/base",
            "_view_module_version": "1.2.0",
            "_view_name": "StyleView",
            "description_width": ""
          }
        }
      }
    }
  },
  "cells": [
    {
      "cell_type": "markdown",
      "metadata": {
        "id": "HbSat8L7HH9m"
      },
      "source": [
        "## Install dependencies"
      ]
    },
    {
      "cell_type": "code",
      "metadata": {
        "colab": {
          "base_uri": "https://localhost:8080/"
        },
        "id": "EszygJLHSsci",
        "outputId": "c9d5d4ef-9bc2-48d8-aae8-2b0f0a4743bd"
      },
      "source": [
        "!pip install trankit"
      ],
      "execution_count": 1,
      "outputs": [
        {
          "output_type": "stream",
          "name": "stdout",
          "text": [
            "Collecting trankit\n",
            "  Downloading trankit-1.1.1-py3-none-any.whl (773 kB)\n",
            "\u001b[?25l     \u001b[90m━━━━━━━━━━━━━━━━━━━━━━━━━━━━━━━━━━━━━━━━\u001b[0m \u001b[32m0.0/773.4 kB\u001b[0m \u001b[31m?\u001b[0m eta \u001b[36m-:--:--\u001b[0m\r\u001b[2K     \u001b[91m━━━\u001b[0m\u001b[90m╺\u001b[0m\u001b[90m━━━━━━━━━━━━━━━━━━━━━━━━━━━━━━━━━━━━\u001b[0m \u001b[32m61.4/773.4 kB\u001b[0m \u001b[31m2.3 MB/s\u001b[0m eta \u001b[36m0:00:01\u001b[0m\r\u001b[2K     \u001b[91m━━━━━━━━━━━━━━━━━━━━━━━━━━━━━━━━━━━━━━━\u001b[0m\u001b[91m╸\u001b[0m \u001b[32m768.0/773.4 kB\u001b[0m \u001b[31m12.9 MB/s\u001b[0m eta \u001b[36m0:00:01\u001b[0m\r\u001b[2K     \u001b[90m━━━━━━━━━━━━━━━━━━━━━━━━━━━━━━━━━━━━━━━━\u001b[0m \u001b[32m773.4/773.4 kB\u001b[0m \u001b[31m10.3 MB/s\u001b[0m eta \u001b[36m0:00:00\u001b[0m\n",
            "\u001b[?25hRequirement already satisfied: numpy in /usr/local/lib/python3.10/dist-packages (from trankit) (1.25.2)\n",
            "Requirement already satisfied: protobuf in /usr/local/lib/python3.10/dist-packages (from trankit) (3.20.3)\n",
            "Requirement already satisfied: requests in /usr/local/lib/python3.10/dist-packages (from trankit) (2.31.0)\n",
            "Requirement already satisfied: torch>=1.6.0 in /usr/local/lib/python3.10/dist-packages (from trankit) (2.2.1+cu121)\n",
            "Requirement already satisfied: tqdm>=4.27 in /usr/local/lib/python3.10/dist-packages (from trankit) (4.66.4)\n",
            "Collecting langid==1.1.6 (from trankit)\n",
            "  Downloading langid-1.1.6.tar.gz (1.9 MB)\n",
            "\u001b[2K     \u001b[90m━━━━━━━━━━━━━━━━━━━━━━━━━━━━━━━━━━━━━━━━\u001b[0m \u001b[32m1.9/1.9 MB\u001b[0m \u001b[31m53.1 MB/s\u001b[0m eta \u001b[36m0:00:00\u001b[0m\n",
            "\u001b[?25h  Preparing metadata (setup.py) ... \u001b[?25l\u001b[?25hdone\n",
            "Requirement already satisfied: filelock in /usr/local/lib/python3.10/dist-packages (from trankit) (3.14.0)\n",
            "Requirement already satisfied: tokenizers>=0.7.0 in /usr/local/lib/python3.10/dist-packages (from trankit) (0.19.1)\n",
            "Requirement already satisfied: regex!=2019.12.17 in /usr/local/lib/python3.10/dist-packages (from trankit) (2023.12.25)\n",
            "Requirement already satisfied: packaging in /usr/local/lib/python3.10/dist-packages (from trankit) (24.0)\n",
            "Requirement already satisfied: sentencepiece in /usr/local/lib/python3.10/dist-packages (from trankit) (0.1.99)\n",
            "Collecting sacremoses (from trankit)\n",
            "  Downloading sacremoses-0.1.1-py3-none-any.whl (897 kB)\n",
            "\u001b[2K     \u001b[90m━━━━━━━━━━━━━━━━━━━━━━━━━━━━━━━━━━━━━━━━\u001b[0m \u001b[32m897.5/897.5 kB\u001b[0m \u001b[31m45.1 MB/s\u001b[0m eta \u001b[36m0:00:00\u001b[0m\n",
            "\u001b[?25hRequirement already satisfied: huggingface-hub<1.0,>=0.16.4 in /usr/local/lib/python3.10/dist-packages (from tokenizers>=0.7.0->trankit) (0.20.3)\n",
            "Requirement already satisfied: typing-extensions>=4.8.0 in /usr/local/lib/python3.10/dist-packages (from torch>=1.6.0->trankit) (4.11.0)\n",
            "Requirement already satisfied: sympy in /usr/local/lib/python3.10/dist-packages (from torch>=1.6.0->trankit) (1.12)\n",
            "Requirement already satisfied: networkx in /usr/local/lib/python3.10/dist-packages (from torch>=1.6.0->trankit) (3.3)\n",
            "Requirement already satisfied: jinja2 in /usr/local/lib/python3.10/dist-packages (from torch>=1.6.0->trankit) (3.1.4)\n",
            "Requirement already satisfied: fsspec in /usr/local/lib/python3.10/dist-packages (from torch>=1.6.0->trankit) (2023.6.0)\n",
            "Collecting nvidia-cuda-nvrtc-cu12==12.1.105 (from torch>=1.6.0->trankit)\n",
            "  Using cached nvidia_cuda_nvrtc_cu12-12.1.105-py3-none-manylinux1_x86_64.whl (23.7 MB)\n",
            "Collecting nvidia-cuda-runtime-cu12==12.1.105 (from torch>=1.6.0->trankit)\n",
            "  Using cached nvidia_cuda_runtime_cu12-12.1.105-py3-none-manylinux1_x86_64.whl (823 kB)\n",
            "Collecting nvidia-cuda-cupti-cu12==12.1.105 (from torch>=1.6.0->trankit)\n",
            "  Using cached nvidia_cuda_cupti_cu12-12.1.105-py3-none-manylinux1_x86_64.whl (14.1 MB)\n",
            "Collecting nvidia-cudnn-cu12==8.9.2.26 (from torch>=1.6.0->trankit)\n",
            "  Using cached nvidia_cudnn_cu12-8.9.2.26-py3-none-manylinux1_x86_64.whl (731.7 MB)\n",
            "Collecting nvidia-cublas-cu12==12.1.3.1 (from torch>=1.6.0->trankit)\n",
            "  Using cached nvidia_cublas_cu12-12.1.3.1-py3-none-manylinux1_x86_64.whl (410.6 MB)\n",
            "Collecting nvidia-cufft-cu12==11.0.2.54 (from torch>=1.6.0->trankit)\n",
            "  Using cached nvidia_cufft_cu12-11.0.2.54-py3-none-manylinux1_x86_64.whl (121.6 MB)\n",
            "Collecting nvidia-curand-cu12==10.3.2.106 (from torch>=1.6.0->trankit)\n",
            "  Using cached nvidia_curand_cu12-10.3.2.106-py3-none-manylinux1_x86_64.whl (56.5 MB)\n",
            "Collecting nvidia-cusolver-cu12==11.4.5.107 (from torch>=1.6.0->trankit)\n",
            "  Using cached nvidia_cusolver_cu12-11.4.5.107-py3-none-manylinux1_x86_64.whl (124.2 MB)\n",
            "Collecting nvidia-cusparse-cu12==12.1.0.106 (from torch>=1.6.0->trankit)\n",
            "  Using cached nvidia_cusparse_cu12-12.1.0.106-py3-none-manylinux1_x86_64.whl (196.0 MB)\n",
            "Collecting nvidia-nccl-cu12==2.19.3 (from torch>=1.6.0->trankit)\n",
            "  Using cached nvidia_nccl_cu12-2.19.3-py3-none-manylinux1_x86_64.whl (166.0 MB)\n",
            "Collecting nvidia-nvtx-cu12==12.1.105 (from torch>=1.6.0->trankit)\n",
            "  Using cached nvidia_nvtx_cu12-12.1.105-py3-none-manylinux1_x86_64.whl (99 kB)\n",
            "Requirement already satisfied: triton==2.2.0 in /usr/local/lib/python3.10/dist-packages (from torch>=1.6.0->trankit) (2.2.0)\n",
            "Collecting nvidia-nvjitlink-cu12 (from nvidia-cusolver-cu12==11.4.5.107->torch>=1.6.0->trankit)\n",
            "  Using cached nvidia_nvjitlink_cu12-12.4.127-py3-none-manylinux2014_x86_64.whl (21.1 MB)\n",
            "Requirement already satisfied: charset-normalizer<4,>=2 in /usr/local/lib/python3.10/dist-packages (from requests->trankit) (3.3.2)\n",
            "Requirement already satisfied: idna<4,>=2.5 in /usr/local/lib/python3.10/dist-packages (from requests->trankit) (3.7)\n",
            "Requirement already satisfied: urllib3<3,>=1.21.1 in /usr/local/lib/python3.10/dist-packages (from requests->trankit) (2.0.7)\n",
            "Requirement already satisfied: certifi>=2017.4.17 in /usr/local/lib/python3.10/dist-packages (from requests->trankit) (2024.2.2)\n",
            "Requirement already satisfied: click in /usr/local/lib/python3.10/dist-packages (from sacremoses->trankit) (8.1.7)\n",
            "Requirement already satisfied: joblib in /usr/local/lib/python3.10/dist-packages (from sacremoses->trankit) (1.4.2)\n",
            "Requirement already satisfied: pyyaml>=5.1 in /usr/local/lib/python3.10/dist-packages (from huggingface-hub<1.0,>=0.16.4->tokenizers>=0.7.0->trankit) (6.0.1)\n",
            "Requirement already satisfied: MarkupSafe>=2.0 in /usr/local/lib/python3.10/dist-packages (from jinja2->torch>=1.6.0->trankit) (2.1.5)\n",
            "Requirement already satisfied: mpmath>=0.19 in /usr/local/lib/python3.10/dist-packages (from sympy->torch>=1.6.0->trankit) (1.3.0)\n",
            "Building wheels for collected packages: langid\n",
            "  Building wheel for langid (setup.py) ... \u001b[?25l\u001b[?25hdone\n",
            "  Created wheel for langid: filename=langid-1.1.6-py3-none-any.whl size=1941172 sha256=6ff14e9bf5dc8c76ce30577d9ef1cb702ccde171db814712478cda938e7f075d\n",
            "  Stored in directory: /root/.cache/pip/wheels/23/c8/c6/eed80894918490a175677414d40bd7c851413bbe03d4856c3c\n",
            "Successfully built langid\n",
            "Installing collected packages: sacremoses, nvidia-nvtx-cu12, nvidia-nvjitlink-cu12, nvidia-nccl-cu12, nvidia-curand-cu12, nvidia-cufft-cu12, nvidia-cuda-runtime-cu12, nvidia-cuda-nvrtc-cu12, nvidia-cuda-cupti-cu12, nvidia-cublas-cu12, langid, nvidia-cusparse-cu12, nvidia-cudnn-cu12, nvidia-cusolver-cu12, trankit\n",
            "Successfully installed langid-1.1.6 nvidia-cublas-cu12-12.1.3.1 nvidia-cuda-cupti-cu12-12.1.105 nvidia-cuda-nvrtc-cu12-12.1.105 nvidia-cuda-runtime-cu12-12.1.105 nvidia-cudnn-cu12-8.9.2.26 nvidia-cufft-cu12-11.0.2.54 nvidia-curand-cu12-10.3.2.106 nvidia-cusolver-cu12-11.4.5.107 nvidia-cusparse-cu12-12.1.0.106 nvidia-nccl-cu12-2.19.3 nvidia-nvjitlink-cu12-12.4.127 nvidia-nvtx-cu12-12.1.105 sacremoses-0.1.1 trankit-1.1.1\n"
          ]
        }
      ]
    },
    {
      "cell_type": "markdown",
      "metadata": {
        "id": "H_7yHPYoHPsU"
      },
      "source": [
        "### Prepare the data"
      ]
    },
    {
      "cell_type": "code",
      "metadata": {
        "id": "wn8AMgq2VsaJ",
        "colab": {
          "base_uri": "https://localhost:8080/"
        },
        "outputId": "022f561e-c21c-4ce8-8b9f-832b0fdb43f1"
      },
      "source": [
        "from google.colab import drive\n",
        "drive.mount('/content/drive')"
      ],
      "execution_count": 2,
      "outputs": [
        {
          "output_type": "stream",
          "name": "stdout",
          "text": [
            "Mounted at /content/drive\n"
          ]
        }
      ]
    },
    {
      "cell_type": "markdown",
      "metadata": {
        "id": "oJhr8AtgHUOP"
      },
      "source": [
        "## Run the training loop"
      ]
    },
    {
      "cell_type": "code",
      "metadata": {
        "colab": {
          "base_uri": "https://localhost:8080/",
          "height": 845,
          "referenced_widgets": [
            "caed22caba584ff3a7e2d8e689a53270",
            "691126a5aa5f49f1be7e6fe86161afaa",
            "d0db53a62da44cd88395a862c8396a2b",
            "6d6f1b5bdce948119f92ce256af7a3d2",
            "a74e369b47ea4a50b600858a6a6277c3",
            "ecf4fb610aa44ba5bc531352d7fa1ac4",
            "96786e3e02b14ac1a0a230f590b8cf11",
            "b7f9f88c1a3c4db3896c125041658bd0",
            "d79c1ab4c615420a85dfecf3e9967099",
            "4d819d0b5be34517b7071642582c6925",
            "85f08a60fa20445e9ece3064a037ea53",
            "3f8a634f9bb249d898e3ef7a92dcb12e",
            "01db6778ed4142109db5374a9ac9a044",
            "1e7e6f38a47b4683ae2ea2ce1f75f507",
            "81df88c7d3f140e9b3c1e1985f5928b4",
            "ff9ba35039f94ac7a1170e40a760459a",
            "66118d82a2844efb855ca13ab2bc731b",
            "f01c6bae2b0a43f9b64606e0496cdf9c",
            "f79e11109fb940d48590a74812f14496",
            "5640086419c1433f8885af1765f5e874",
            "b8c6feb054284b398a4a8483b463b991",
            "4f2439d6cd9048d4aa61ec5be5d9c201",
            "127e46f3625047d1a86cc7dc9dc52226",
            "5150bcd0dcff44c7acbd99e757851cfa",
            "763c4342ef8845e280e027741ed3ef8a",
            "5a59f5cc8eb84b21b0cb0b966c29c37f",
            "baaa2103216a4cd493cfc8ba45ca255c",
            "cb3171fc1a9f4919aedd5218cdb801c8",
            "60a8213710f44f14ae0c496b5847ffec",
            "76a25be0f6464d97869432243a2b71cf",
            "ab468ff2442a4d3aadba1f765768e03a",
            "5cb566b2e1f24098ab654bed334a7fb7",
            "ab3ae3224b874fd89fad2bb43b4f572e"
          ]
        },
        "id": "51jTnhfoCS5W",
        "outputId": "37f8e2ea-6027-4b7c-86bb-1cc2318524ef"
      },
      "source": [
        "import trankit\n",
        "import torch\n",
        "\n",
        "# Check if CUDA is available, otherwise use CPU\n",
        "device = 'cuda' if torch.cuda.is_available() else 'cpu'\n",
        "\n",
        "# initialize a trainer for the task\n",
        "trainer = trankit.TPipeline(\n",
        "    training_config={\n",
        "      'max_epoch': 5,\n",
        "      'category': 'customized-ner',  # pipeline category\n",
        "      'task': 'ner', # task name\n",
        "      'save_dir': '/content/drive/My Drive/data/syllable/save_dir_filtered', # directory to save the trained model\n",
        "      'train_bio_fpath': '/content/drive/My Drive/data/syllable/train_syllable.conll', # training data in BIO format\n",
        "      'dev_bio_fpath': '/content/drive/My Drive/data/syllable/dev_syllable.conll' # training data in BIO format\n",
        "    }\n",
        ")\n",
        "\n",
        "# start training\n",
        "trainer.train()"
      ],
      "execution_count": 3,
      "outputs": [
        {
          "output_type": "stream",
          "name": "stdout",
          "text": [
            "Setting up training config...\n"
          ]
        },
        {
          "output_type": "display_data",
          "data": {
            "text/plain": [
              "Downloading:   0%|          | 0.00/5.07M [00:00<?, ?B/s]"
            ],
            "application/vnd.jupyter.widget-view+json": {
              "version_major": 2,
              "version_minor": 0,
              "model_id": "caed22caba584ff3a7e2d8e689a53270"
            }
          },
          "metadata": {}
        },
        {
          "output_type": "stream",
          "name": "stdout",
          "text": [
            "Skipped 0 over-length examples\n",
            "Loaded 5027 examples\n",
            "Skipped 0 over-length examples\n",
            "Loaded 2000 examples\n"
          ]
        },
        {
          "output_type": "display_data",
          "data": {
            "text/plain": [
              "Downloading:   0%|          | 0.00/512 [00:00<?, ?B/s]"
            ],
            "application/vnd.jupyter.widget-view+json": {
              "version_major": 2,
              "version_minor": 0,
              "model_id": "3f8a634f9bb249d898e3ef7a92dcb12e"
            }
          },
          "metadata": {}
        },
        {
          "output_type": "display_data",
          "data": {
            "text/plain": [
              "Downloading:   0%|          | 0.00/1.12G [00:00<?, ?B/s]"
            ],
            "application/vnd.jupyter.widget-view+json": {
              "version_major": 2,
              "version_minor": 0,
              "model_id": "127e46f3625047d1a86cc7dc9dc52226"
            }
          },
          "metadata": {}
        },
        {
          "output_type": "stream",
          "name": "stdout",
          "text": [
            "******************************\n",
            "NER: Epoch: 0\n"
          ]
        },
        {
          "output_type": "stream",
          "name": "stderr",
          "text": [
            "Train 0: 315it [01:01,  5.16it/s]\n",
            "dev 0: 100%|█████████████████████████████| 125/125 [00:13<00:00,  9.30it/s]\n"
          ]
        },
        {
          "output_type": "stream",
          "name": "stdout",
          "text": [
            "Saving adapter weights to ... /content/drive/My Drive/data/syllable/save_dir_filtered/xlm-roberta-base/customized-ner/customized-ner.ner.mdl (9.99 MB)\n",
            "------------------------------\n",
            "Best dev F1 score: epoch 0, F1: 68.43\n",
            "******************************\n",
            "NER: Epoch: 1\n"
          ]
        },
        {
          "output_type": "stream",
          "name": "stderr",
          "text": [
            "Train 1: 315it [01:01,  5.14it/s]\n",
            "dev 1: 100%|█████████████████████████████| 125/125 [00:13<00:00,  9.24it/s]\n"
          ]
        },
        {
          "output_type": "stream",
          "name": "stdout",
          "text": [
            "Saving adapter weights to ... /content/drive/My Drive/data/syllable/save_dir_filtered/xlm-roberta-base/customized-ner/customized-ner.ner.mdl (9.99 MB)\n",
            "------------------------------\n",
            "Best dev F1 score: epoch 1, F1: 85.86\n",
            "******************************\n",
            "NER: Epoch: 2\n"
          ]
        },
        {
          "output_type": "stream",
          "name": "stderr",
          "text": [
            "Train 2: 315it [01:03,  4.94it/s]\n",
            "dev 2: 100%|█████████████████████████████| 125/125 [00:13<00:00,  9.19it/s]\n"
          ]
        },
        {
          "output_type": "stream",
          "name": "stdout",
          "text": [
            "Saving adapter weights to ... /content/drive/My Drive/data/syllable/save_dir_filtered/xlm-roberta-base/customized-ner/customized-ner.ner.mdl (9.99 MB)\n",
            "------------------------------\n",
            "Best dev F1 score: epoch 2, F1: 88.09\n",
            "******************************\n",
            "NER: Epoch: 3\n"
          ]
        },
        {
          "output_type": "stream",
          "name": "stderr",
          "text": [
            "Train 3: 315it [01:00,  5.25it/s]\n",
            "dev 3: 100%|█████████████████████████████| 125/125 [00:13<00:00,  9.11it/s]\n"
          ]
        },
        {
          "output_type": "stream",
          "name": "stdout",
          "text": [
            "Saving adapter weights to ... /content/drive/My Drive/data/syllable/save_dir_filtered/xlm-roberta-base/customized-ner/customized-ner.ner.mdl (9.99 MB)\n",
            "------------------------------\n",
            "Best dev F1 score: epoch 3, F1: 90.36\n",
            "******************************\n",
            "NER: Epoch: 4\n"
          ]
        },
        {
          "output_type": "stream",
          "name": "stderr",
          "text": [
            "Train 4: 315it [01:00,  5.25it/s]\n",
            "dev 4: 100%|█████████████████████████████| 125/125 [00:13<00:00,  9.22it/s]\n"
          ]
        },
        {
          "output_type": "stream",
          "name": "stdout",
          "text": [
            "Saving adapter weights to ... /content/drive/My Drive/data/syllable/save_dir_filtered/xlm-roberta-base/customized-ner/customized-ner.ner.mdl (9.99 MB)\n",
            "------------------------------\n",
            "Best dev F1 score: epoch 4, F1: 90.84\n",
            "Training done!\n"
          ]
        }
      ]
    },
    {
      "cell_type": "code",
      "metadata": {
        "colab": {
          "base_uri": "https://localhost:8080/"
        },
        "id": "Df828S_N8Nnk",
        "outputId": "f08a16d7-ffb8-4a1e-da98-73a4f2895db6"
      },
      "source": [
        "from trankit.iterators.ner_iterators import NERDataset\n",
        "test_set = NERDataset(\n",
        "    config=trainer._config,\n",
        "    bio_fpath='/content/drive/My Drive/data/syllable/test_syllable.conll',\n",
        "    evaluate=True\n",
        ")\n",
        "test_set.numberize()\n",
        "test_batch_num = len(test_set) // trainer._config.batch_size + (len(test_set) % trainer._config.batch_size != 0)\n",
        "result = trainer._eval_ner(data_set=test_set, batch_num=test_batch_num,\n",
        "                           name='test', epoch=-1)"
      ],
      "execution_count": 4,
      "outputs": [
        {
          "output_type": "stream",
          "name": "stdout",
          "text": [
            "Skipped 0 over-length examples\n",
            "Loaded 3000 examples\n"
          ]
        },
        {
          "output_type": "stream",
          "name": "stderr",
          "text": [
            "test -1: 100%|███████████████████████████| 188/188 [00:20<00:00,  9.00it/s]\n"
          ]
        }
      ]
    },
    {
      "cell_type": "code",
      "metadata": {
        "colab": {
          "base_uri": "https://localhost:8080/"
        },
        "id": "IWn7fv9c9q8H",
        "outputId": "4aa65c5d-e9cc-4176-f854-d603978cf461"
      },
      "source": [
        "print(result)"
      ],
      "execution_count": 5,
      "outputs": [
        {
          "output_type": "stream",
          "name": "stdout",
          "text": [
            "{'p': 90.24492534809596, 'r': 91.68299957392416, 'f1': 90.95827873356723}\n"
          ]
        }
      ]
    },
    {
      "cell_type": "markdown",
      "metadata": {
        "id": "K9SaCcTjG877"
      },
      "source": [
        "## Running the trained model on the `test` set"
      ]
    },
    {
      "cell_type": "code",
      "metadata": {
        "id": "EtGj1ozAAcA1"
      },
      "source": [
        "!wget -q http://nlp.uoregon.edu/download/trankit/vietnamese.zip"
      ],
      "execution_count": 6,
      "outputs": []
    },
    {
      "cell_type": "code",
      "metadata": {
        "colab": {
          "base_uri": "https://localhost:8080/"
        },
        "id": "Yiw8pCUHAnum",
        "outputId": "513daa39-2aae-4421-e00b-70c84786464d"
      },
      "source": [
        "%%shell\n",
        "unzip -o vietnamese.zip"
      ],
      "execution_count": 7,
      "outputs": [
        {
          "output_type": "stream",
          "name": "stdout",
          "text": [
            "Archive:  vietnamese.zip\n",
            " extracting: vietnamese.downloaded   \n",
            "  inflating: vietnamese.ner.mdl      \n",
            "  inflating: vietnamese.ner-vocab.json  \n",
            "  inflating: vietnamese.tagger.mdl   \n",
            "  inflating: vietnamese.tokenizer.mdl  \n",
            "  inflating: vietnamese.vocabs.json  \n"
          ]
        },
        {
          "output_type": "execute_result",
          "data": {
            "text/plain": []
          },
          "metadata": {},
          "execution_count": 7
        }
      ]
    },
    {
      "cell_type": "code",
      "source": [
        "import os\n",
        "\n",
        "save_dir = '/content/drive/My Drive/save_dir_filtered/xlm-roberta-base/customized-ner/preds/'\n",
        "if not os.path.exists(save_dir):\n",
        "    os.makedirs(save_dir)\n",
        "    print(f\"Created directory: {save_dir}\")\n",
        "else:\n",
        "    print(f\"Directory already exists: {save_dir}\")\n"
      ],
      "metadata": {
        "colab": {
          "base_uri": "https://localhost:8080/"
        },
        "id": "IpVZyqQ5S94O",
        "outputId": "adbf3ee4-ae88-4e65-d4f7-da8939fddcb8"
      },
      "execution_count": 30,
      "outputs": [
        {
          "output_type": "stream",
          "name": "stdout",
          "text": [
            "Created directory: /content/drive/My Drive/save_dir_filtered/xlm-roberta-base/customized-ner/preds/\n"
          ]
        }
      ]
    },
    {
      "cell_type": "code",
      "source": [
        "# initialize a trainer for the task\n",
        "trainer1 = trankit.TPipeline(\n",
        "    training_config={\n",
        "      'max_epoch': 5,\n",
        "      'category': 'customized-ner',  # pipeline category\n",
        "      'task': 'lemmatize', # task name\n",
        "      'save_dir': '/content/drive/My Drive/save_dir_filtered', # directory to save the trained model\n",
        "      'train_conllu_fpath': '/content/drive/My Drive/data/vi_vtb-ud-train.conllu', # training data in BIO format\n",
        "      'dev_conllu_fpath': '/content/drive/My Drive/data/vi_vtb-ud-dev.conllu' # training data in BIO format\n",
        "    }\n",
        ")\n",
        "\n",
        "# start training\n",
        "trainer1.train()"
      ],
      "metadata": {
        "colab": {
          "base_uri": "https://localhost:8080/"
        },
        "id": "RDiSfyTdMbWW",
        "outputId": "6cc485ad-9571-4cf5-d123-ae6d0ca61370"
      },
      "execution_count": 31,
      "outputs": [
        {
          "output_type": "stream",
          "name": "stdout",
          "text": [
            "Setting up training config...\n",
            "Initialized lemmatizer trainer\n",
            "Training dictionary-based lemmatizer\n",
            "Dev F1 = 96.64\n",
            "Training seq2seq-based lemmatizer\n"
          ]
        },
        {
          "output_type": "stream",
          "name": "stderr",
          "text": [
            "Train 1: 100%|███████████████████████████| 405/405 [00:11<00:00, 36.27it/s]\n"
          ]
        },
        {
          "output_type": "stream",
          "name": "stdout",
          "text": [
            "Ensembling dict with seq2seq model\n",
            "Saving new best model to ... /content/drive/My Drive/save_dir_filtered/xlm-roberta-base/customized-ner/customized-ner_lemmatizer.pt\n",
            "Metric     | Precision |    Recall |  F1 Score | AligndAcc\n",
            "-----------+-----------+-----------+-----------+-----------\n",
            "Tokens     |    100.00 |    100.00 |    100.00 |\n",
            "Sentences  |    100.00 |    100.00 |    100.00 |\n",
            "Words      |    100.00 |    100.00 |    100.00 |\n",
            "UPOS       |    100.00 |    100.00 |    100.00 |    100.00\n",
            "XPOS       |    100.00 |    100.00 |    100.00 |    100.00\n",
            "UFeats     |    100.00 |    100.00 |    100.00 |    100.00\n",
            "AllTags    |    100.00 |    100.00 |    100.00 |    100.00\n",
            "Lemmas     |     98.48 |     98.48 |     98.48 |     98.48\n",
            "UAS        |    100.00 |    100.00 |    100.00 |    100.00\n",
            "LAS        |    100.00 |    100.00 |    100.00 |    100.00\n",
            "CLAS       |    100.00 |    100.00 |    100.00 |    100.00\n",
            "MLAS       |    100.00 |    100.00 |    100.00 |    100.00\n",
            "BLEX       |     98.72 |     98.72 |     98.72 |     98.72\n",
            "\n"
          ]
        },
        {
          "output_type": "stream",
          "name": "stderr",
          "text": [
            "Train 2: 100%|███████████████████████████| 405/405 [00:10<00:00, 38.45it/s]\n"
          ]
        },
        {
          "output_type": "stream",
          "name": "stdout",
          "text": [
            "Ensembling dict with seq2seq model\n",
            "Saving new best model to ... /content/drive/My Drive/save_dir_filtered/xlm-roberta-base/customized-ner/customized-ner_lemmatizer.pt\n",
            "Metric     | Precision |    Recall |  F1 Score | AligndAcc\n",
            "-----------+-----------+-----------+-----------+-----------\n",
            "Tokens     |    100.00 |    100.00 |    100.00 |\n",
            "Sentences  |    100.00 |    100.00 |    100.00 |\n",
            "Words      |    100.00 |    100.00 |    100.00 |\n",
            "UPOS       |    100.00 |    100.00 |    100.00 |    100.00\n",
            "XPOS       |    100.00 |    100.00 |    100.00 |    100.00\n",
            "UFeats     |    100.00 |    100.00 |    100.00 |    100.00\n",
            "AllTags    |    100.00 |    100.00 |    100.00 |    100.00\n",
            "Lemmas     |     98.88 |     98.88 |     98.88 |     98.88\n",
            "UAS        |    100.00 |    100.00 |    100.00 |    100.00\n",
            "LAS        |    100.00 |    100.00 |    100.00 |    100.00\n",
            "CLAS       |    100.00 |    100.00 |    100.00 |    100.00\n",
            "MLAS       |    100.00 |    100.00 |    100.00 |    100.00\n",
            "BLEX       |     98.85 |     98.85 |     98.85 |     98.85\n",
            "\n"
          ]
        },
        {
          "output_type": "stream",
          "name": "stderr",
          "text": [
            "Train 3: 100%|███████████████████████████| 405/405 [00:09<00:00, 41.04it/s]\n"
          ]
        },
        {
          "output_type": "stream",
          "name": "stdout",
          "text": [
            "Ensembling dict with seq2seq model\n",
            "Saving new best model to ... /content/drive/My Drive/save_dir_filtered/xlm-roberta-base/customized-ner/customized-ner_lemmatizer.pt\n",
            "Metric     | Precision |    Recall |  F1 Score | AligndAcc\n",
            "-----------+-----------+-----------+-----------+-----------\n",
            "Tokens     |    100.00 |    100.00 |    100.00 |\n",
            "Sentences  |    100.00 |    100.00 |    100.00 |\n",
            "Words      |    100.00 |    100.00 |    100.00 |\n",
            "UPOS       |    100.00 |    100.00 |    100.00 |    100.00\n",
            "XPOS       |    100.00 |    100.00 |    100.00 |    100.00\n",
            "UFeats     |    100.00 |    100.00 |    100.00 |    100.00\n",
            "AllTags    |    100.00 |    100.00 |    100.00 |    100.00\n",
            "Lemmas     |     99.26 |     99.26 |     99.26 |     99.26\n",
            "UAS        |    100.00 |    100.00 |    100.00 |    100.00\n",
            "LAS        |    100.00 |    100.00 |    100.00 |    100.00\n",
            "CLAS       |    100.00 |    100.00 |    100.00 |    100.00\n",
            "MLAS       |    100.00 |    100.00 |    100.00 |    100.00\n",
            "BLEX       |     98.95 |     98.95 |     98.95 |     98.95\n",
            "\n"
          ]
        },
        {
          "output_type": "stream",
          "name": "stderr",
          "text": [
            "Train 4: 100%|███████████████████████████| 405/405 [00:10<00:00, 37.75it/s]\n"
          ]
        },
        {
          "output_type": "stream",
          "name": "stdout",
          "text": [
            "Ensembling dict with seq2seq model\n",
            "Saving new best model to ... /content/drive/My Drive/save_dir_filtered/xlm-roberta-base/customized-ner/customized-ner_lemmatizer.pt\n",
            "Metric     | Precision |    Recall |  F1 Score | AligndAcc\n",
            "-----------+-----------+-----------+-----------+-----------\n",
            "Tokens     |    100.00 |    100.00 |    100.00 |\n",
            "Sentences  |    100.00 |    100.00 |    100.00 |\n",
            "Words      |    100.00 |    100.00 |    100.00 |\n",
            "UPOS       |    100.00 |    100.00 |    100.00 |    100.00\n",
            "XPOS       |    100.00 |    100.00 |    100.00 |    100.00\n",
            "UFeats     |    100.00 |    100.00 |    100.00 |    100.00\n",
            "AllTags    |    100.00 |    100.00 |    100.00 |    100.00\n",
            "Lemmas     |     99.27 |     99.27 |     99.27 |     99.27\n",
            "UAS        |    100.00 |    100.00 |    100.00 |    100.00\n",
            "LAS        |    100.00 |    100.00 |    100.00 |    100.00\n",
            "CLAS       |    100.00 |    100.00 |    100.00 |    100.00\n",
            "MLAS       |    100.00 |    100.00 |    100.00 |    100.00\n",
            "BLEX       |     98.95 |     98.95 |     98.95 |     98.95\n",
            "\n"
          ]
        },
        {
          "output_type": "stream",
          "name": "stderr",
          "text": [
            "Train 5: 100%|███████████████████████████| 405/405 [00:09<00:00, 42.98it/s]\n"
          ]
        },
        {
          "output_type": "stream",
          "name": "stdout",
          "text": [
            "Ensembling dict with seq2seq model\n",
            "Saving new best model to ... /content/drive/My Drive/save_dir_filtered/xlm-roberta-base/customized-ner/customized-ner_lemmatizer.pt\n",
            "Metric     | Precision |    Recall |  F1 Score | AligndAcc\n",
            "-----------+-----------+-----------+-----------+-----------\n",
            "Tokens     |    100.00 |    100.00 |    100.00 |\n",
            "Sentences  |    100.00 |    100.00 |    100.00 |\n",
            "Words      |    100.00 |    100.00 |    100.00 |\n",
            "UPOS       |    100.00 |    100.00 |    100.00 |    100.00\n",
            "XPOS       |    100.00 |    100.00 |    100.00 |    100.00\n",
            "UFeats     |    100.00 |    100.00 |    100.00 |    100.00\n",
            "AllTags    |    100.00 |    100.00 |    100.00 |    100.00\n",
            "Lemmas     |     99.27 |     99.27 |     99.27 |     99.27\n",
            "UAS        |    100.00 |    100.00 |    100.00 |    100.00\n",
            "LAS        |    100.00 |    100.00 |    100.00 |    100.00\n",
            "CLAS       |    100.00 |    100.00 |    100.00 |    100.00\n",
            "MLAS       |    100.00 |    100.00 |    100.00 |    100.00\n",
            "BLEX       |     98.96 |     98.96 |     98.96 |     98.96\n",
            "\n",
            "Training done\n"
          ]
        }
      ]
    },
    {
      "cell_type": "code",
      "metadata": {
        "id": "CTIui3esBgh2"
      },
      "source": [
        "!mkdir -p \"/content/drive/My Drive/data/syllable/save_dir_filtered/customized-ner/\"\n",
        "!cp -a vietnamese.tagger.mdl \"/content/drive/My Drive/data/syllable/save_dir_filtered/xlm-roberta-base/customized-ner/customized-ner.tagger.mdl\"\n",
        "!cp -a vietnamese.vocabs.json \"/content/drive/My Drive/data/syllable/save_dir_filtered/xlm-roberta-base/customized-ner/customized-ner.vocabs.json\"\n",
        "!cp -a vietnamese.tokenizer.mdl \"/content/drive/My Drive/data/syllable/save_dir_filtered/xlm-roberta-base/customized-ner/customized-ner.tokenizer.mdl\"\n",
        "\n"
      ],
      "execution_count": 17,
      "outputs": []
    },
    {
      "cell_type": "code",
      "metadata": {
        "colab": {
          "base_uri": "https://localhost:8080/"
        },
        "id": "FgIC5z-wEAij",
        "outputId": "b27d452c-561c-4d76-fe7e-a636569a38b6"
      },
      "source": [
        "trankit.verify_customized_pipeline(\n",
        "    category='customized-ner', # pipeline category\n",
        "    save_dir='/content/drive/My Drive/data/syllable/save_dir_filtered', # directory used for saving models in previous steps\n",
        "    embedding_name='xlm-roberta-base'\n",
        ")"
      ],
      "execution_count": 32,
      "outputs": [
        {
          "output_type": "stream",
          "name": "stdout",
          "text": [
            "Customized pipeline is ready to use!\n",
            "It can be initialized as follows:\n",
            "-----------------------------------\n",
            "from trankit import Pipeline\n",
            "p = Pipeline(lang='customized-ner', cache_dir='/content/drive/My Drive/data/syllable/save_dir_filtered')\n"
          ]
        }
      ]
    },
    {
      "cell_type": "markdown",
      "metadata": {
        "id": "qkIKFw5OG0l7"
      },
      "source": [
        "## Using the pretrained model in a Pipeline"
      ]
    },
    {
      "cell_type": "code",
      "metadata": {
        "id": "td9K2NnvHCHy"
      },
      "source": [
        "from trankit import Pipeline"
      ],
      "execution_count": 19,
      "outputs": []
    },
    {
      "cell_type": "code",
      "metadata": {
        "colab": {
          "base_uri": "https://localhost:8080/"
        },
        "id": "VyAE2Vc2HFB9",
        "outputId": "9bbddb4e-6182-499f-8529-0e44108fde2e"
      },
      "source": [
        "p = Pipeline(lang='customized-ner', cache_dir='/content/drive/My Drive/data/syllable/save_dir_filtered')"
      ],
      "execution_count": 33,
      "outputs": [
        {
          "output_type": "stream",
          "name": "stdout",
          "text": [
            "Loading pretrained XLM-Roberta, this may take a while...\n",
            "Loading tokenizer for customized-ner\n",
            "Loading tagger for customized-ner\n",
            "Loading lemmatizer for customized-ner\n",
            "Loading NER tagger for customized-ner\n",
            "==================================================\n",
            "Active language: customized-ner\n",
            "==================================================\n"
          ]
        }
      ]
    },
    {
      "cell_type": "code",
      "metadata": {
        "colab": {
          "base_uri": "https://localhost:8080/"
        },
        "id": "gMJAhFgxHv0K",
        "outputId": "fc9eab94-5b5a-4926-f400-ffeb351d39b7"
      },
      "source": [
        "p.ner('''75 máy bay chiến đấu được sản xuất tại Hatfield, Anh và bay tới Thụy Sĩ vào năm 1949.''', is_sent=True)"
      ],
      "execution_count": 36,
      "outputs": [
        {
          "output_type": "execute_result",
          "data": {
            "text/plain": [
              "{'text': '75 máy bay chiến đấu được sản xuất tại Hatfield, Anh và bay tới Thụy Sĩ vào năm 1949.',\n",
              " 'tokens': [{'id': 1, 'text': '75', 'span': (0, 2), 'ner': 'O'},\n",
              "  {'id': 2, 'text': 'máy bay chiến đấu', 'span': (3, 20), 'ner': 'O'},\n",
              "  {'id': 3, 'text': 'được', 'span': (21, 25), 'ner': 'O'},\n",
              "  {'id': 4, 'text': 'sản xuất', 'span': (26, 34), 'ner': 'O'},\n",
              "  {'id': 5, 'text': 'tại', 'span': (35, 38), 'ner': 'O'},\n",
              "  {'id': 6, 'text': 'Hatfield', 'span': (39, 47), 'ner': 'S-LOCATION'},\n",
              "  {'id': 7, 'text': ',', 'span': (47, 48), 'ner': 'O'},\n",
              "  {'id': 8, 'text': 'Anh', 'span': (49, 52), 'ner': 'S-LOCATION'},\n",
              "  {'id': 9, 'text': 'và', 'span': (53, 55), 'ner': 'O'},\n",
              "  {'id': 10, 'text': 'bay', 'span': (56, 59), 'ner': 'O'},\n",
              "  {'id': 11, 'text': 'tới', 'span': (60, 63), 'ner': 'O'},\n",
              "  {'id': 12, 'text': 'Thụy Sĩ', 'span': (64, 71), 'ner': 'S-LOCATION'},\n",
              "  {'id': 13, 'text': 'vào', 'span': (72, 75), 'ner': 'O'},\n",
              "  {'id': 14, 'text': 'năm', 'span': (76, 79), 'ner': 'O'},\n",
              "  {'id': 15, 'text': '1949', 'span': (80, 84), 'ner': 'O'},\n",
              "  {'id': 16, 'text': '.', 'span': (84, 85), 'ner': 'O'}],\n",
              " 'lang': 'customized-ner'}"
            ]
          },
          "metadata": {},
          "execution_count": 36
        }
      ]
    }
  ]
}